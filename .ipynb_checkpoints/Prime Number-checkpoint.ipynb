{
 "cells": [
  {
   "cell_type": "code",
   "execution_count": 3,
   "metadata": {},
   "outputs": [
    {
     "name": "stdout",
     "output_type": "stream",
     "text": [
      "Please enter a number: 8\n",
      "8 is not a prime number\n"
     ]
    }
   ],
   "source": [
    "given_num = int(input(\"Please enter a number: \"))\n",
    "count = 2\n",
    "\n",
    "while count < given_num:\n",
    "    if given_num % count != 0:\n",
    "        count += 1\n",
    "    else:\n",
    "        break\n",
    "if count == given_num:\n",
    "    print(\"{} is a prime number\".format(given_num))\n",
    "else:\n",
    "    print(\"{} is not a prime number\".format(given_num))"
   ]
  },
  {
   "cell_type": "code",
   "execution_count": null,
   "metadata": {},
   "outputs": [],
   "source": []
  }
 ],
 "metadata": {
  "kernelspec": {
   "display_name": "Python 3",
   "language": "python",
   "name": "python3"
  },
  "language_info": {
   "codemirror_mode": {
    "name": "ipython",
    "version": 3
   },
   "file_extension": ".py",
   "mimetype": "text/x-python",
   "name": "python",
   "nbconvert_exporter": "python",
   "pygments_lexer": "ipython3",
   "version": "3.8.5"
  }
 },
 "nbformat": 4,
 "nbformat_minor": 4
}
