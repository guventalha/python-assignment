{
 "cells": [
  {
   "cell_type": "code",
   "execution_count": 31,
   "metadata": {},
   "outputs": [
    {
     "name": "stdout",
     "output_type": "stream",
     "text": [
      "Please enter a positive number: 100\n",
      "[2, 3, 5, 7, 11, 13, 17, 19, 23, 29, 31, 37, 41, 43, 47, 53, 59, 61, 67, 71, 73, 79, 83, 89, 97]\n"
     ]
    }
   ],
   "source": [
    "n = int(input(\"Please enter a positive number: \"))\n",
    "x = 2\n",
    "isPrime = False\n",
    "prime_list = []\n",
    "\n",
    "for j in range(x,n):\n",
    "    \n",
    "    for i in range(x,j+1):\n",
    "        if j == i and j % i == 0:\n",
    "            isPrime = True\n",
    "        elif not j % i == 0:\n",
    "            isPrime = True\n",
    "        else:\n",
    "            isPrime = False\n",
    "            break\n",
    "        \n",
    "        \n",
    "    if isPrime:\n",
    "        prime_list.append(j)\n",
    "    \n",
    "print(prime_list)  \n",
    "        \n"
   ]
  },
  {
   "cell_type": "code",
   "execution_count": null,
   "metadata": {},
   "outputs": [],
   "source": []
  },
  {
   "cell_type": "code",
   "execution_count": null,
   "metadata": {},
   "outputs": [],
   "source": []
  }
 ],
 "metadata": {
  "kernelspec": {
   "display_name": "Python 3",
   "language": "python",
   "name": "python3"
  },
  "language_info": {
   "codemirror_mode": {
    "name": "ipython",
    "version": 3
   },
   "file_extension": ".py",
   "mimetype": "text/x-python",
   "name": "python",
   "nbconvert_exporter": "python",
   "pygments_lexer": "ipython3",
   "version": "3.8.5"
  }
 },
 "nbformat": 4,
 "nbformat_minor": 4
}
